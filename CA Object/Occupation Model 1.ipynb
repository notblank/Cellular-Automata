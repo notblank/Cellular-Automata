{
 "cells": [
  {
   "cell_type": "code",
   "execution_count": 1,
   "metadata": {
    "collapsed": true
   },
   "outputs": [],
   "source": [
    "import numpy as np\n",
    "import matplotlib.pyplot as plt\n",
    "from itertools import compress # use boolean indexes in lists."
   ]
  },
  {
   "cell_type": "code",
   "execution_count": 2,
   "metadata": {},
   "outputs": [
    {
     "name": "stdout",
     "output_type": "stream",
     "text": [
      "Yellow Cell class defined.\n",
      "Purple Cell class defined.\n"
     ]
    }
   ],
   "source": [
    "class YCell: \n",
    "    print(\"Yellow Cell class defined.\")\n",
    "    \n",
    "    def __init__(self, pos, state):\n",
    "        self.position = pos \n",
    "        self.state = state\n",
    "        #print('A yellow cell is born!')\n",
    "        \n",
    "    def info(self):\n",
    "        print(\"hi, I'm in position\", self.position, \"\\n My state is\", self.state)   \n",
    "        \n",
    "class PCell: \n",
    "    print(\"Purple Cell class defined.\")\n",
    "    \n",
    "    def __init__(self, pos, state):\n",
    "        self.position = pos \n",
    "        self.state = state\n",
    "        #print('A purple cell is born!')\n",
    "        \n",
    "    def info(self):\n",
    "        print(\"hi, I'm in position\", self.position, \"\\n My state is\", self.state)    "
   ]
  },
  {
   "cell_type": "code",
   "execution_count": 3,
   "metadata": {
    "collapsed": true
   },
   "outputs": [],
   "source": [
    "Y = []\n",
    "P = []\n",
    "nCells = 10\n",
    "\n",
    "YStates = np.random.binomial(1, 0.5, nCells)\n",
    "PStates = np.random.binomial(1, 0.2, nCells)\n",
    "\n",
    "for i in range(10):\n",
    "    Y.append(YCell(i, YStates[i]))\n",
    "    P.append(PCell(i, PStates[i]))"
   ]
  },
  {
   "cell_type": "code",
   "execution_count": 4,
   "metadata": {},
   "outputs": [
    {
     "data": {
      "image/png": "[encoded data removed]",
      "text/plain": [
       "<matplotlib.figure.Figure at 0xe0f5270668>"
      ]
     },
     "metadata": {},
     "output_type": "display_data"
    }
   ],
   "source": [
    "plt.matshow([YStates, PStates])\n",
    "plt.xticks(range(10))\n",
    "plt.show()"
   ]
  },
  {
   "cell_type": "code",
   "execution_count": 5,
   "metadata": {
    "collapsed": true
   },
   "outputs": [],
   "source": [
    "def distance(ycell, pcell):\n",
    "    d = ycell.position - pcell.position\n",
    "    return(np.abs(d))"
   ]
  },
  {
   "cell_type": "code",
   "execution_count": 10,
   "metadata": {
    "collapsed": true
   },
   "outputs": [],
   "source": [
    "def ocupationStep(YCells, PCells, randnum):\n",
    "    '''\n",
    "    Moves the active randnum YCell to the closest empty PCell. \n",
    "    \n",
    "    inputs: \n",
    "        - YCells and PCells - lists of Y and P cells\n",
    "        - randnum - number of YCell    \n",
    "    \n",
    "    outputs: \n",
    "        - No outputs, just updates the YCells and PCells lists.  \n",
    "    '''\n",
    "    Ystates = np.array([ycell.state for ycell in YCells])\n",
    "    Pstates = np.array([pcell.state for pcell in PCells])\n",
    "        \n",
    "    YCells[randnum]\n",
    "    if YCells[randnum].state == 1:\n",
    "        # compute the distance between free Ycell and the rest.\n",
    "        d = []\n",
    "        \n",
    "        # empty PCells: \n",
    "        emptyPcells = list(compress(P, PStates == 0))\n",
    "\n",
    "        if emptyPcells:\n",
    "        # if there are any empty PCells: \n",
    "            for pcell in emptyPcells:\n",
    "                d.append(distance(YCells[randnum], pcell))\n",
    "            \n",
    "            minI = np.argmin(d)\n",
    "            nEmptyPCell = emptyPcells[minI].position\n",
    "            PCells[nEmptyPCell].state = 1\n",
    "            YCells[randnum].state = 0"
   ]
  },
  {
   "cell_type": "code",
   "execution_count": 16,
   "metadata": {},
   "outputs": [
    {
     "data": {
      "text/plain": [
       "3"
      ]
     },
     "execution_count": 16,
     "metadata": {},
     "output_type": "execute_result"
    }
   ],
   "source": [
    "randnum = 3 #np.random.choice(range(nCells))\n",
    "randnum"
   ]
  },
  {
   "cell_type": "code",
   "execution_count": 17,
   "metadata": {
    "collapsed": true
   },
   "outputs": [],
   "source": [
    "ocupationStep(Y, P, randnum)"
   ]
  },
  {
   "cell_type": "code",
   "execution_count": 18,
   "metadata": {},
   "outputs": [
    {
     "data": {
      "image/png": "[encoded data removed]",
      "text/plain": [
       "<matplotlib.figure.Figure at 0xe088021c50>"
      ]
     },
     "metadata": {},
     "output_type": "display_data"
    }
   ],
   "source": [
    "Ystates = np.array([ycell.state for ycell in Y])\n",
    "Pstates = np.array([pcell.state for pcell in P])\n",
    "\n",
    "plt.matshow([Ystates, Pstates])\n",
    "plt.xticks(range(10))\n",
    "plt.show()"
   ]
  },
  {
   "cell_type": "code",
   "execution_count": null,
   "metadata": {
    "collapsed": true
   },
   "outputs": [],
   "source": []
  }
 ],
 "metadata": {
  "kernelspec": {
   "display_name": "Python 3",
   "language": "python",
   "name": "python3"
  },
  "language_info": {
   "codemirror_mode": {
    "name": "ipython",
    "version": 3
   },
   "file_extension": ".py",
   "mimetype": "text/x-python",
   "name": "python",
   "nbconvert_exporter": "python",
   "pygments_lexer": "ipython3",
   "version": "3.6.2"
  }
 },
 "nbformat": 4,
 "nbformat_minor": 2
}
